{
 "metadata": {
  "name": "",
  "signature": "sha256:c49d4eddcaf2307405331c4383a91144cb314b799e0911615438dd6e27093f89"
 },
 "nbformat": 3,
 "nbformat_minor": 0,
 "worksheets": [
  {
   "cells": [
    {
     "cell_type": "code",
     "collapsed": false,
     "input": [
      "import numpy as np\n",
      "from pyx import *"
     ],
     "language": "python",
     "metadata": {},
     "outputs": [],
     "prompt_number": 2
    },
    {
     "cell_type": "code",
     "collapsed": false,
     "input": [
      "#first plot of SNR improvement when roundtrip time t1 is much less then the coherence time of the cavity t_cav, which in turn \n",
      "#is much less than the axion coherence time t_a: t_1 << t_cav << t_sig\n",
      "#we study the SNR improvement for a normal signal, (an axion signal would receive additional enhancement because it rises \n",
      "# with Q)\n",
      "t_1 = 1.e-9\n",
      "t_cav = 1.e-4\n",
      "t_a = 1.e-2\n",
      "#first make a list of the SNR enhancement as a function of the net gain, GS_21, which will range from 0 to 1.\n",
      "num_steps = 50\n",
      "x_vals = list(np.linspace(0.5, 1., num=num_steps))\n",
      "y_vals = [(1-np.exp(-t_1/t_cav)*x)**2/(1-np.exp(-t_1/t_a)*x)**2 for x in x_vals]\n",
      "g = graph.graphxy(width=8,\n",
      "                  y=graph.axis.log(min=1e-1, max=1e4, title=r\"SNR enhancement\"),\n",
      "                  x=graph.axis.lin(max=1, title=r\"closed loop gain\"))\n",
      "g.plot(graph.data.values(x=list(x_vals), y=list(y_vals)))\n",
      "g.writePDFfile(\"first_limit\")\n",
      "\n",
      "#it looks like a flat line at l for net gains <1. When the net gain is 1 it jumps up to 10k."
     ],
     "language": "python",
     "metadata": {},
     "outputs": [],
     "prompt_number": 24
    },
    {
     "cell_type": "code",
     "collapsed": false,
     "input": [
      "#second plot of SNR improvement when roundtrip time t1 is about the coherence time of the cavity t_cav, which in turn \n",
      "#is much less than the axion coherence time t_a: t_1 ~ t_cav << t_sig\n",
      "t_1 = 1.e-4\n",
      "t_cav = 1.e-4\n",
      "t_a = 1.e-2\n",
      "#first make a list of the SNR enhancement as a function of the net gain, GS_21, which will range from 0 to 1.\n",
      "num_steps = 50\n",
      "x_vals = list(np.linspace(0.5, 1., num=num_steps))\n",
      "y_vals = [(1-np.exp(-t_1/t_cav)*x)**2/(1-np.exp(-t_1/t_a)*x)**2 for x in x_vals]\n",
      "g = graph.graphxy(width=8,\n",
      "                  y=graph.axis.log(min=1e-1, max=1e4, title=r\"SNR enhancement\"),\n",
      "                  x=graph.axis.lin(max=1, title=r\"closed loop gain\"))\n",
      "g.plot(graph.data.values(x=list(x_vals), y=list(y_vals)))\n",
      "g.writePDFfile(\"second_limit\")\n",
      "\n",
      "#now it rises in a lorentzian like way from 1 to 10k. at net_gain = 0.9 the enhancement is around 10. At net_gain = 1 it rises\n",
      "# 10k again."
     ],
     "language": "python",
     "metadata": {},
     "outputs": [],
     "prompt_number": 27
    },
    {
     "cell_type": "code",
     "collapsed": false,
     "input": [
      "#third plot of SNR improvement when roundtrip time t1 is about the coherence time of the cavity t_cav, which in turn \n",
      "#is about the axion coherence time t_a: t_1 ~ t_cav ~ t_sig\n",
      "t_1 = 1.e-2\n",
      "t_cav = 1.e-2\n",
      "t_a = 1.e-2\n",
      "#first make a list of the SNR enhancement as a function of the net gain, GS_21, which will range from 0 to 1.\n",
      "num_steps = 50\n",
      "x_vals = list(np.linspace(0.5, 1., num=num_steps))\n",
      "y_vals = [(1-np.exp(-t_1/t_cav)*x)**2/(1-np.exp(-t_1/t_a)*x)**2 for x in x_vals]\n",
      "g = graph.graphxy(width=8,\n",
      "                  y=graph.axis.log(min=1e-1, max=1e4, title=r\"SNR enhancement\"),\n",
      "                  x=graph.axis.lin(max=1, title=r\"closed loop gain\"))\n",
      "g.plot(graph.data.values(x=list(x_vals), y=list(y_vals)))\n",
      "g.writePDFfile(\"third_limit\")\n",
      "\n",
      "#here there is no enhancement; it is a flat line at 1 all the way from net_gain = 0 to net_gain = 1."
     ],
     "language": "python",
     "metadata": {},
     "outputs": [],
     "prompt_number": 28
    },
    {
     "cell_type": "code",
     "collapsed": false,
     "input": [
      "#So obviously we don't want scenarios #1 or #3, since they provide no enhancement. \n",
      "#The interesting region is #2. Let's make a #few plots with different values of t_1, for t_1 ~ t_cav and t_cav << t_a.\n",
      "t_1 = [1.e-5, 5*1.e-5, 1.e-4, 5*1.e-4, 1.e-3]\n",
      "t_cav = 1.e-4\n",
      "t_a = 1.e-2\n",
      "num_steps = 50\n",
      "x_vals = list(np.linspace(0.5, 1., num=num_steps))\n",
      "y_vals0 = [(1-np.exp(-t_1[0]/t_cav)*x)**2/(1-np.exp(-t_1[0]/t_a)*x)**2 for x in x_vals]\n",
      "y_vals1 = [(1-np.exp(-t_1[1]/t_cav)*x)**2/(1-np.exp(-t_1[1]/t_a)*x)**2 for x in x_vals]\n",
      "y_vals2 = [(1-np.exp(-t_1[2]/t_cav)*x)**2/(1-np.exp(-t_1[2]/t_a)*x)**2 for x in x_vals]\n",
      "y_vals3 = [(1-np.exp(-t_1[3]/t_cav)*x)**2/(1-np.exp(-t_1[3]/t_a)*x)**2 for x in x_vals]\n",
      "y_vals4 = [(1-np.exp(-t_1[4]/t_cav)*x)**2/(1-np.exp(-t_1[4]/t_a)*x)**2 for x in x_vals]\n",
      "\n",
      "g = graph.graphxy(width=8,\n",
      "                  y=graph.axis.log(min=1e-1, max=1e4, title=r\"SNR enhancement\"),\n",
      "                  x=graph.axis.lin(max=1, title=r\"closed loop gain, $t_{cav} = 10^{-4}$, $t_a = 10^{-2}$\"),\n",
      "                  key=graph.key.key(pos=\"br\", dist=0.1))\n",
      "g.plot([graph.data.values(x=list(x_vals), y=list(y_vals0), title=r\"$t_1 = 10^{-5}$\"),\n",
      "       graph.data.values(x=list(x_vals), y=list(y_vals1), title=r\"$t_1 = 5\\times10^{-5}$\"),\n",
      "       graph.data.values(x=list(x_vals), y=list(y_vals2), title=r\"$t_1 = 10^{-4}$\")],\n",
      "#       graph.data.values(x=list(x_vals), y=list(y_vals2), title=r\"$t_1 = 5*10^{-4}$\"),\n",
      "#       graph.data.values(x=list(x_vals), y=list(y_vals2), title=r\"$t_1 = 10^{-3}$\")],\n",
      "       [graph.style.line([color.gradient.Rainbow])])\n",
      "g.writePDFfile(\"exploring_second_limit\")"
     ],
     "language": "python",
     "metadata": {},
     "outputs": [],
     "prompt_number": 49
    },
    {
     "cell_type": "code",
     "collapsed": false,
     "input": [
      "#So can we compare our data to this intermediate regime? MEAS7 is the data from 2014 with the delay line; we also have to\n",
      "#upload MEAS6 data to figure out what the Q's are, since we only recorded the mini-resonances unfortunately for MEAS7.\n",
      "data = np.genfromtxt('/Users/ana/admxactiveresonator/measurements/MEAS7.txt')\n",
      "Voltage_7 = data[:,0]\n",
      "Q_7 = data[:, 3]\n",
      "N = data[:,4]\n",
      "S = data[:, 5]\n",
      "Nl_7 = [10**((n+104.)/10.) for n in N]\n",
      "Sl_7 = [10**((s+104.)/10.) for s in S]\n",
      "SNR_7 = [s/n for s, n in zip(Sl_7, Nl_7)]\n",
      "\n",
      "data = np.genfromtxt('/Users/ana/admxactiveresonator/measurements/MEAS6.txt')\n",
      "Voltage_6 = data[:,0]\n",
      "Q_6 = data[:, 3]\n",
      "N = data[:,4]\n",
      "S = data[:, 5]\n",
      "Nl_6 = [10**((n+104.)/10.) for n in N]\n",
      "Sl_6 = [10**((s+104.)/10.) for s in S]\n",
      "SNR_6 = [s/n for s, n in zip(Sl_6, Nl_6)]\n",
      "\n",
      "f = interpolate.interp1d(Voltage_6, Q_6)\n",
      "guess_Q_7 = [f(v) for i, v in enumerate(Voltage_7) if Q_7[i] < 60000.]\n",
      "corresponding_SNR_7 = [s for i, s in enumerate(SNR_7) if Q_7[i] < 60000.]\n",
      "g = graph.graphxy(width=8)\n",
      "g.plot([graph.data.values(x=list(x_vals), y=list(y_vals0), title=r\"$t_1 = 10^{-5}$\"),\n",
      "       graph.data.values(x=list(x_vals), y=list(y_vals1), title=r\"$t_1 = 5\\times10^{-5}$\"),\n",
      "       graph.data.values(x=)\n",
      "ppl.scatter(ax3, guess_Q_7, corresponding_SNR_7, color='red', s=80)\n"
     ],
     "language": "python",
     "metadata": {},
     "outputs": []
    }
   ],
   "metadata": {}
  }
 ]
}