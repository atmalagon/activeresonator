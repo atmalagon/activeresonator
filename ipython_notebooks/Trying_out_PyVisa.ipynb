{
 "metadata": {
  "name": "",
  "signature": "sha256:b1e25fa697a72c1f596864482c6a1b41ebb8ea88fb0cf83c9904b59011096a08"
 },
 "nbformat": 3,
 "nbformat_minor": 0,
 "worksheets": [
  {
   "cells": [
    {
     "cell_type": "code",
     "collapsed": false,
     "input": [
      "#pip install -U pyvisa\n",
      "#rm = ResourceManager('Path to library')\n",
      "#VISA library: /usr/lib/libvisa.so.7 \n",
      "import visa\n",
      "rm = visa.ResourceManager()\n",
      "rm.list_resources()\n",
      "#inst = rm.open_resource('GPIB0::12::INSTR')\n",
      "#print(inst.query(\"*IDN?\"))"
     ],
     "language": "python",
     "metadata": {},
     "outputs": []
    }
   ],
   "metadata": {}
  }
 ]
}