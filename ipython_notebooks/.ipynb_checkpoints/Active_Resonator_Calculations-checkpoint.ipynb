{
 "metadata": {
  "name": "",
  "signature": "sha256:6522c06a7685444f64acc1e556a4dfd8269c42050fbc93c59fe7a8c47ccb6887"
 },
 "nbformat": 3,
 "nbformat_minor": 0,
 "worksheets": []
}