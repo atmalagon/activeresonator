{
 "metadata": {
  "name": "",
  "signature": "sha256:d65f66741ebb6d5caeaab99f4f0d5693e2bdf3c35a07aca0fb3caca971b687ee"
 },
 "nbformat": 3,
 "nbformat_minor": 0,
 "worksheets": [
  {
   "cells": [
    {
     "cell_type": "code",
     "collapsed": false,
     "input": [
      "from pyx import *"
     ],
     "language": "python",
     "metadata": {},
     "outputs": [],
     "prompt_number": 1
    },
    {
     "cell_type": "code",
     "collapsed": false,
     "input": [
      "c = canvas.canvas()\n",
      "\n",
      "# apply global TeX setting\n",
      "text.preamble(r\"\\parindent=0pt\")\n",
      "w = 1.2 # an appropriate parbox width for spam & eggs\n",
      "\n",
      "# vertical alignments by margins\n",
      "c.stroke(path.line(0, 4, 8, 4), [style.linewidth.THin])\n",
      "c.text(0, 4, r\"spam \\& eggs\", [text.parbox(w), text.valign.top])\n",
      "#c.text(3, 4, r\"spam \\& eggs\", [text.parbox(w), text.valign.middle])\n",
      "#c.text(6, 4, r\"spam \\& eggs\", [text.parbox(w), text.valign.bottom])\n",
      "\n",
      "# vertical alignments by baselines\n",
      "c.stroke(path.line(0, 2, 8, 2), [style.linewidth.THin])\n",
      "c.text(0, 2, r\"spam \\& eggs\", [text.parbox(w, baseline=text.parbox.top)])\n",
      "#c.text(3, 2, r\"spam \\& eggs\", [text.parbox(w, baseline=text.parbox.middle)])\n",
      "#c.text(6, 2, r\"spam \\& eggs\", [text.parbox(w, baseline=text.parbox.bottom)])\n",
      "\n",
      "# vertical shifts\n",
      "c.stroke(path.line(0, 0, 8, 0), [style.linewidth.THin])\n",
      "c.text(0, 0, r\"x=0\", [text.mathmode, text.vshift.topzero])\n",
      "c.text(2, 0, r\"x=0\", [text.mathmode, text.vshift.middlezero])\n",
      "c.text(4, 0, r\"x=0\", [text.mathmode, text.vshift.bottomzero])\n",
      "c.text(6, 0, r\"x=0\", [text.mathmode, text.vshift.mathaxis])\n",
      "\n",
      "c.writePDFfile(\"valign\")"
     ],
     "language": "python",
     "metadata": {},
     "outputs": []
    }
   ],
   "metadata": {}
  }
 ]
}